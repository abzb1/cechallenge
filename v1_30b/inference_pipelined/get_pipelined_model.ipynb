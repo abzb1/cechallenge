{
 "cells": [
  {
   "cell_type": "code",
   "execution_count": 2,
   "id": "67ab3fe9-e4ff-469c-971b-6d70118efeaf",
   "metadata": {},
   "outputs": [],
   "source": [
    "import torch"
   ]
  },
  {
   "cell_type": "code",
   "execution_count": null,
   "id": "51273e20-3814-40ac-920a-00bec58525b1",
   "metadata": {},
   "outputs": [],
   "source": [
    "model_0_dict = torch.load(\"./model_0.pt\")"
   ]
  },
  {
   "cell_type": "code",
   "execution_count": null,
   "id": "31107220-8c00-419a-8960-1bbc68504585",
   "metadata": {},
   "outputs": [],
   "source": [
    "model_0_dict.keys()"
   ]
  },
  {
   "cell_type": "code",
   "execution_count": null,
   "id": "0eb230d5-e483-4d86-b7d9-054ce4840500",
   "metadata": {},
   "outputs": [],
   "source": [
    "from model import get_stage"
   ]
  },
  {
   "cell_type": "code",
   "execution_count": null,
   "id": "7c132837-4294-425f-8bec-99464d2d33f0",
   "metadata": {},
   "outputs": [],
   "source": [
    "model_0 = get_stage.model_0()"
   ]
  },
  {
   "cell_type": "code",
   "execution_count": null,
   "id": "7672b0f2-9452-4f0f-849d-952239e1ace1",
   "metadata": {},
   "outputs": [],
   "source": [
    "del model_0_dict[\"norm.weight\"]\n",
    "del model_0_dict[\"output.weight\"]"
   ]
  },
  {
   "cell_type": "code",
   "execution_count": null,
   "id": "a04f32d8-fca9-4b78-815f-4044af2b6e5d",
   "metadata": {},
   "outputs": [],
   "source": [
    "model_0.load_state_dict(model_0_dict)"
   ]
  },
  {
   "cell_type": "code",
   "execution_count": 3,
   "id": "46a45217-ead7-46e9-b6fb-33c0c1dc9e13",
   "metadata": {},
   "outputs": [],
   "source": [
    "model_0 = torch.load(\"./stage_0.pt\")"
   ]
  },
  {
   "cell_type": "code",
   "execution_count": 4,
   "id": "b562b376-f165-4087-93d4-555544c18b7d",
   "metadata": {},
   "outputs": [],
   "source": [
    "torch.save(model_0.state_dict(), \"./stage_0.pth\")"
   ]
  },
  {
   "cell_type": "code",
   "execution_count": null,
   "id": "b7b9100f-7a40-4f6b-b1e4-eca1c2745a14",
   "metadata": {},
   "outputs": [],
   "source": [
    "dict(model_0.named_parameters())['layers.12.feed_forward.w3.weight'].shape"
   ]
  },
  {
   "cell_type": "code",
   "execution_count": null,
   "id": "f13ba62d-2413-4f11-9826-38c4b2a82aa8",
   "metadata": {},
   "outputs": [],
   "source": [
    "model_0_dict['layers.12.feed_forward.w3.weight'].shape"
   ]
  },
  {
   "cell_type": "code",
   "execution_count": null,
   "id": "9894cc96-b1c6-4479-9bce-036e6dcc2672",
   "metadata": {},
   "outputs": [],
   "source": [
    "dict(model_0.named_parameters())['layers.12.feed_forward.w3.weight'] == model_0_dict['layers.12.feed_forward.w3.weight']"
   ]
  },
  {
   "cell_type": "code",
   "execution_count": null,
   "id": "20f05da6-f738-4903-ad5b-b98f207446ad",
   "metadata": {},
   "outputs": [],
   "source": [
    "torch.save(model_0.state_dict(), \"./stage_0.pt\")"
   ]
  },
  {
   "cell_type": "code",
   "execution_count": null,
   "id": "dc1a9e01-16c6-4065-8990-c0dc6c9a1928",
   "metadata": {},
   "outputs": [],
   "source": [
    "model_1 = get_stage.model_1()"
   ]
  },
  {
   "cell_type": "code",
   "execution_count": null,
   "id": "31cfd562-f84c-4020-bc28-f7783e0953aa",
   "metadata": {},
   "outputs": [],
   "source": [
    "model_1_dict = torch.load(\"./model_1.pt\")"
   ]
  },
  {
   "cell_type": "code",
   "execution_count": null,
   "id": "ea81687d-c238-4b0b-91a1-5fa6a7c2a5f8",
   "metadata": {},
   "outputs": [],
   "source": [
    "new_model_1_dict = {}\n",
    "dict_name_lst = [\".attention.wq.weight\",\n",
    "                \".attention.wk.weight\",\n",
    "                \".attention.wv.weight\",\n",
    "                \".attention.wo.weight\",\n",
    "                \".feed_forward.w1.weight\",\n",
    "                \".feed_forward.w2.weight\",\n",
    "                \".feed_forward.w3.weight\",\n",
    "                \".attention_norm.weight\",\n",
    "                \".ffn_norm.weight\"\n",
    "                ]\n",
    "layer_num = 0\n",
    "for i, (name, tensor) in enumerate(model_1_dict.items()):\n",
    "    if i % 9 == 0 and i != 0:\n",
    "        layer_num += 1\n",
    "    weight_name = \"layers.\" + str(layer_num) + dict_name_lst[i%9]\n",
    "    new_model_1_dict[weight_name] = tensor\n",
    "    "
   ]
  },
  {
   "cell_type": "code",
   "execution_count": null,
   "id": "82c3b39b-827b-42d6-aa4c-d52a00a9458b",
   "metadata": {},
   "outputs": [],
   "source": [
    "model_1.load_state_dict(new_model_1_dict)"
   ]
  },
  {
   "cell_type": "code",
   "execution_count": null,
   "id": "f25bd83a-7c75-4c9f-821f-df1dbb5ddac0",
   "metadata": {},
   "outputs": [],
   "source": [
    "torch.save(model_1.state_dict(), \"./stage_1.pt\")"
   ]
  },
  {
   "cell_type": "code",
   "execution_count": null,
   "id": "27a0f1b1-fe30-4f05-a073-40f262235f0c",
   "metadata": {},
   "outputs": [],
   "source": [
    "model_2 = get_stage.model_2()\n",
    "model_2_dict = torch.load(\"./model_2.pt\")"
   ]
  },
  {
   "cell_type": "code",
   "execution_count": null,
   "id": "39ba700b-a36e-45f8-ae8c-f9a01eb904ea",
   "metadata": {},
   "outputs": [],
   "source": [
    "new_model_2_dict = {}\n",
    "dict_name_lst = [\".attention.wq.weight\",\n",
    "                \".attention.wk.weight\",\n",
    "                \".attention.wv.weight\",\n",
    "                \".attention.wo.weight\",\n",
    "                \".feed_forward.w1.weight\",\n",
    "                \".feed_forward.w2.weight\",\n",
    "                \".feed_forward.w3.weight\",\n",
    "                \".attention_norm.weight\",\n",
    "                \".ffn_norm.weight\"\n",
    "                ]\n",
    "layer_num = 0\n",
    "for i, (name, tensor) in enumerate(model_2_dict.items()):\n",
    "    if i % 9 == 0 and i != 0:\n",
    "        layer_num += 1\n",
    "    weight_name = \"layers.\" + str(layer_num) + dict_name_lst[i%9]\n",
    "    new_model_2_dict[weight_name] = tensor"
   ]
  },
  {
   "cell_type": "code",
   "execution_count": null,
   "id": "2a7281dc-f2d6-4d67-b5c0-e20e54bb0a6e",
   "metadata": {},
   "outputs": [],
   "source": [
    "model_2.load_state_dict(new_model_2_dict)"
   ]
  },
  {
   "cell_type": "code",
   "execution_count": null,
   "id": "16cc51fe-ff5f-464c-ae55-7bd75f737468",
   "metadata": {},
   "outputs": [],
   "source": [
    "torch.save(model_2.state_dict(), \"./stage_2.pt\")"
   ]
  },
  {
   "cell_type": "code",
   "execution_count": null,
   "id": "e1de1585-d37a-46b2-a00f-8f18cd4d56f1",
   "metadata": {},
   "outputs": [],
   "source": [
    "model_3 = get_stage.model_3()\n",
    "model_3_dict = torch.load(\"./model_3.pt\")"
   ]
  },
  {
   "cell_type": "code",
   "execution_count": null,
   "id": "e7c4b417-c64c-433d-94cf-e500c91206cd",
   "metadata": {},
   "outputs": [],
   "source": [
    "len(model_3_dict)"
   ]
  },
  {
   "cell_type": "code",
   "execution_count": null,
   "id": "98f1959f-10c0-48a4-9eed-1c5490d72822",
   "metadata": {},
   "outputs": [],
   "source": [
    "model_3_dict.keys()"
   ]
  },
  {
   "cell_type": "code",
   "execution_count": null,
   "id": "37b90d58-e77e-4cd2-a9a0-03fdb5d770e2",
   "metadata": {},
   "outputs": [],
   "source": [
    "new_model_3_dict = {}\n",
    "dict_name_lst = [\".attention.wq.weight\",\n",
    "                \".attention.wk.weight\",\n",
    "                \".attention.wv.weight\",\n",
    "                \".attention.wo.weight\",\n",
    "                \".feed_forward.w1.weight\",\n",
    "                \".feed_forward.w2.weight\",\n",
    "                \".feed_forward.w3.weight\",\n",
    "                \".attention_norm.weight\",\n",
    "                \".ffn_norm.weight\"\n",
    "                ]\n",
    "layer_num = 0\n",
    "for i, (name, tensor) in enumerate(model_3_dict.items()):\n",
    "    if i % 9 == 0 and i != 0:\n",
    "        layer_num += 1\n",
    "    if layer_num != 15:\n",
    "        weight_name = \"layers.\" + str(layer_num) + dict_name_lst[i%9]\n",
    "    else:\n",
    "        weight_name = \"rope.freqs\"\n",
    "    new_model_3_dict[weight_name] = tensor"
   ]
  },
  {
   "cell_type": "code",
   "execution_count": null,
   "id": "8219efa2-55ce-4634-9cce-d2f7a789d4ae",
   "metadata": {},
   "outputs": [],
   "source": [
    "model_0_dict = torch.load(\"./model_0.pt\")"
   ]
  },
  {
   "cell_type": "code",
   "execution_count": null,
   "id": "e46b71c8-8d8f-4cba-a86b-75785d39a927",
   "metadata": {},
   "outputs": [],
   "source": [
    "new_model_3_dict[\"norm.weight\"] = model_0_dict[\"norm.weight\"]\n",
    "new_model_3_dict[\"output.weight\"] = model_0_dict[\"output.weight\"]\n",
    "del new_model_3_dict[\"rope.freqs\"]"
   ]
  },
  {
   "cell_type": "code",
   "execution_count": null,
   "id": "1f350d86-36d3-4344-9b04-b2ea7d027a44",
   "metadata": {},
   "outputs": [],
   "source": [
    "model_3.load_state_dict(new_model_3_dict)"
   ]
  },
  {
   "cell_type": "code",
   "execution_count": null,
   "id": "6b50789e-ffad-4890-b229-e9a8c39898dc",
   "metadata": {},
   "outputs": [],
   "source": [
    "torch.save(model_3.state_dict(), \"./stage_3.pt\")"
   ]
  },
  {
   "cell_type": "code",
   "execution_count": null,
   "id": "1de45138-ced1-4fbb-aa3d-8f9fd01cb59f",
   "metadata": {},
   "outputs": [],
   "source": []
  }
 ],
 "metadata": {
  "kernelspec": {
   "display_name": "cechallenge",
   "language": "python",
   "name": "cechallenge"
  },
  "language_info": {
   "codemirror_mode": {
    "name": "ipython",
    "version": 3
   },
   "file_extension": ".py",
   "mimetype": "text/x-python",
   "name": "python",
   "nbconvert_exporter": "python",
   "pygments_lexer": "ipython3",
   "version": "3.10.12"
  }
 },
 "nbformat": 4,
 "nbformat_minor": 5
}
