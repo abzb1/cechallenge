{
 "cells": [
  {
   "cell_type": "code",
   "execution_count": 1,
   "id": "7eed46af-f33c-4867-b9ec-fa42c2b611e6",
   "metadata": {},
   "outputs": [],
   "source": [
    "import torch"
   ]
  },
  {
   "cell_type": "code",
   "execution_count": 2,
   "id": "00303a96-a58a-4e86-a173-597424f3245b",
   "metadata": {},
   "outputs": [],
   "source": [
    "basic_path = \"/home1/ohs/cechallenge/ckpt/origin/consolidated.0\""
   ]
  },
  {
   "cell_type": "code",
   "execution_count": 3,
   "id": "fd8a91de-7d2c-4de0-aaa2-8f5f6facddfd",
   "metadata": {},
   "outputs": [],
   "source": [
    "model_lst = []\n",
    "for i in range(4):\n",
    "    plus_path = str(i)+\".pth\"\n",
    "    model_path = basic_path + plus_path\n",
    "    model_lst.append(torch.load(f=model_path, map_location=\"cpu\"))"
   ]
  },
  {
   "cell_type": "code",
   "execution_count": 4,
   "id": "e2f09ce9-e3c5-461c-b439-2dcd67b15fb4",
   "metadata": {},
   "outputs": [],
   "source": [
    "model_weights_name_lst = [x for x in model_lst[0].keys()]"
   ]
  },
  {
   "cell_type": "code",
   "execution_count": 5,
   "id": "ee174e0b-17a5-4b33-a38e-e7bb12eeff7f",
   "metadata": {},
   "outputs": [],
   "source": [
    "def check_colpar(str):\n",
    "    column_parallel_name_lst = [\"output\", \"wq\", \"wk\", \"wv\", \"w1\", \"w3\"]\n",
    "    for colpar_name in column_parallel_name_lst:\n",
    "        if colpar_name in str:\n",
    "            return True\n",
    "    return False"
   ]
  },
  {
   "cell_type": "code",
   "execution_count": 6,
   "id": "ac1be5d2-c5e8-43c6-a0cc-17f7722c464d",
   "metadata": {},
   "outputs": [],
   "source": [
    "def check_rowpar(str):\n",
    "    row_parallel_name_lst = [\"embeddings\", \"wo\", \"w2\"]\n",
    "    for rowpar_name in row_parallel_name_lst:\n",
    "        if rowpar_name in str:\n",
    "            return True\n",
    "    return False"
   ]
  },
  {
   "cell_type": "code",
   "execution_count": 7,
   "id": "1018b0c8-7c54-4800-a18c-d3eb1edde86e",
   "metadata": {},
   "outputs": [],
   "source": [
    "def check_nopar(str):\n",
    "    no_parallel_name_lst = [\"rope\", \"norm\"]\n",
    "    for nopar_name in no_parallel_name_lst:\n",
    "        if nopar_name in str:\n",
    "            return True\n",
    "    return False"
   ]
  },
  {
   "cell_type": "code",
   "execution_count": 8,
   "id": "cdee8de2-8363-4f41-8d47-022a725d16e0",
   "metadata": {},
   "outputs": [
    {
     "data": {
      "text/plain": [
       "544"
      ]
     },
     "execution_count": 8,
     "metadata": {},
     "output_type": "execute_result"
    }
   ],
   "source": [
    "model_weights_dict = {}\n",
    "for i, model_weights_name in enumerate(model_weights_name_lst):\n",
    "    \n",
    "    a = None\n",
    "    for j in range(3):\n",
    "        \n",
    "        if a is None:\n",
    "            if check_colpar(model_weights_name):\n",
    "                a = torch.concat((model_lst[j][model_weights_name],\n",
    "                                  model_lst[j+1][model_weights_name]), dim=0)\n",
    "            elif check_rowpar(model_weights_name):\n",
    "                a = torch.concat((model_lst[j][model_weights_name],\n",
    "                                  model_lst[j+1][model_weights_name]), dim=1)\n",
    "            elif check_nopar(model_weights_name):\n",
    "                a = model_lst[j][model_weights_name]\n",
    "                break\n",
    "            else:\n",
    "                assert True, \"not matching\"\n",
    "        else:\n",
    "            if check_colpar(model_weights_name):\n",
    "                a = torch.concat((a,\n",
    "                                  model_lst[j+1][model_weights_name]), dim=0)\n",
    "            elif check_rowpar(model_weights_name):\n",
    "                a = torch.concat((a,\n",
    "                                  model_lst[j+1][model_weights_name]), dim=1)\n",
    "            else:\n",
    "                assert True, \"not matching\"\n",
    "    \n",
    "    model_weights_dict[model_weights_name] = a\n",
    "\n",
    "len(model_weights_dict)"
   ]
  },
  {
   "cell_type": "code",
   "execution_count": 9,
   "id": "24b92c22-fa02-42ad-ad1d-f194e84dd095",
   "metadata": {},
   "outputs": [],
   "source": [
    "# torch.save(model_weights_dict,\"./whole_model.pt\")"
   ]
  },
  {
   "cell_type": "code",
   "execution_count": null,
   "id": "31007571-7c08-44f6-ba65-5cfa849e6f1c",
   "metadata": {},
   "outputs": [],
   "source": [
    "for model_name in model_weights_name_lst:\n",
    "    print(model_name, model_weights_dict[model_name].shape)"
   ]
  }
 ],
 "metadata": {
  "kernelspec": {
   "display_name": "cechallenge",
   "language": "python",
   "name": "cechallenge"
  },
  "language_info": {
   "codemirror_mode": {
    "name": "ipython",
    "version": 3
   },
   "file_extension": ".py",
   "mimetype": "text/x-python",
   "name": "python",
   "nbconvert_exporter": "python",
   "pygments_lexer": "ipython3",
   "version": "3.10.12"
  }
 },
 "nbformat": 4,
 "nbformat_minor": 5
}
