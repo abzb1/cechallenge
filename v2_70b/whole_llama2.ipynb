{
 "cells": [
  {
   "cell_type": "code",
   "execution_count": 1,
   "id": "1a4846b3-dfcc-4f72-a54b-18e4356f4af6",
   "metadata": {},
   "outputs": [],
   "source": [
    "import os\n",
    "import tqdm\n",
    "\n",
    "import torch"
   ]
  },
  {
   "cell_type": "code",
   "execution_count": 2,
   "id": "a639acad-530f-4bfb-999a-8a7b56ba38f2",
   "metadata": {},
   "outputs": [],
   "source": [
    "ckpt_path_1 = \"llama-2-70b/consolidated.0\"\n",
    "ckpt_path_2 = \".pth\"\n",
    "\n",
    "ckpt_path_lst = [ckpt_path_1+str(i)+ckpt_path_2 for i in range(8)]"
   ]
  },
  {
   "cell_type": "code",
   "execution_count": 3,
   "id": "d68b9440-b918-4925-945e-f82dccab83e8",
   "metadata": {},
   "outputs": [
    {
     "name": "stderr",
     "output_type": "stream",
     "text": [
      "100%|██████████| 8/8 [01:09<00:00,  8.75s/it]\n"
     ]
    }
   ],
   "source": [
    "ckpt_lst = []\n",
    "for ckpt_path in tqdm.tqdm(ckpt_path_lst):\n",
    "    ckpt_lst.append(torch.load(ckpt_path))"
   ]
  },
  {
   "cell_type": "code",
   "execution_count": 12,
   "id": "306bf8aa-a0c6-4e0c-afb6-134c7d0887c2",
   "metadata": {},
   "outputs": [
    {
     "data": {
      "text/plain": [
       "dict_keys(['tok_embeddings.weight', 'norm.weight', 'output.weight', 'layers.0.attention.wq.weight', 'layers.0.attention.wk.weight', 'layers.0.attention.wv.weight', 'layers.0.attention.wo.weight', 'layers.0.feed_forward.w1.weight', 'layers.0.feed_forward.w2.weight', 'layers.0.feed_forward.w3.weight', 'layers.0.attention_norm.weight', 'layers.0.ffn_norm.weight', 'layers.1.attention.wq.weight', 'layers.1.attention.wk.weight', 'layers.1.attention.wv.weight', 'layers.1.attention.wo.weight', 'layers.1.feed_forward.w1.weight', 'layers.1.feed_forward.w2.weight', 'layers.1.feed_forward.w3.weight', 'layers.1.attention_norm.weight', 'layers.1.ffn_norm.weight', 'layers.2.attention.wq.weight', 'layers.2.attention.wk.weight', 'layers.2.attention.wv.weight', 'layers.2.attention.wo.weight', 'layers.2.feed_forward.w1.weight', 'layers.2.feed_forward.w2.weight', 'layers.2.feed_forward.w3.weight', 'layers.2.attention_norm.weight', 'layers.2.ffn_norm.weight', 'layers.3.attention.wq.weight', 'layers.3.attention.wk.weight', 'layers.3.attention.wv.weight', 'layers.3.attention.wo.weight', 'layers.3.feed_forward.w1.weight', 'layers.3.feed_forward.w2.weight', 'layers.3.feed_forward.w3.weight', 'layers.3.attention_norm.weight', 'layers.3.ffn_norm.weight', 'layers.4.attention.wq.weight', 'layers.4.attention.wk.weight', 'layers.4.attention.wv.weight', 'layers.4.attention.wo.weight', 'layers.4.feed_forward.w1.weight', 'layers.4.feed_forward.w2.weight', 'layers.4.feed_forward.w3.weight', 'layers.4.attention_norm.weight', 'layers.4.ffn_norm.weight', 'layers.5.attention.wq.weight', 'layers.5.attention.wk.weight', 'layers.5.attention.wv.weight', 'layers.5.attention.wo.weight', 'layers.5.feed_forward.w1.weight', 'layers.5.feed_forward.w2.weight', 'layers.5.feed_forward.w3.weight', 'layers.5.attention_norm.weight', 'layers.5.ffn_norm.weight', 'layers.6.attention.wq.weight', 'layers.6.attention.wk.weight', 'layers.6.attention.wv.weight', 'layers.6.attention.wo.weight', 'layers.6.feed_forward.w1.weight', 'layers.6.feed_forward.w2.weight', 'layers.6.feed_forward.w3.weight', 'layers.6.attention_norm.weight', 'layers.6.ffn_norm.weight', 'layers.7.attention.wq.weight', 'layers.7.attention.wk.weight', 'layers.7.attention.wv.weight', 'layers.7.attention.wo.weight', 'layers.7.feed_forward.w1.weight', 'layers.7.feed_forward.w2.weight', 'layers.7.feed_forward.w3.weight', 'layers.7.attention_norm.weight', 'layers.7.ffn_norm.weight', 'layers.8.attention.wq.weight', 'layers.8.attention.wk.weight', 'layers.8.attention.wv.weight', 'layers.8.attention.wo.weight', 'layers.8.feed_forward.w1.weight', 'layers.8.feed_forward.w2.weight', 'layers.8.feed_forward.w3.weight', 'layers.8.attention_norm.weight', 'layers.8.ffn_norm.weight', 'layers.9.attention.wq.weight', 'layers.9.attention.wk.weight', 'layers.9.attention.wv.weight', 'layers.9.attention.wo.weight', 'layers.9.feed_forward.w1.weight', 'layers.9.feed_forward.w2.weight', 'layers.9.feed_forward.w3.weight', 'layers.9.attention_norm.weight', 'layers.9.ffn_norm.weight', 'layers.10.attention.wq.weight', 'layers.10.attention.wk.weight', 'layers.10.attention.wv.weight', 'layers.10.attention.wo.weight', 'layers.10.feed_forward.w1.weight', 'layers.10.feed_forward.w2.weight', 'layers.10.feed_forward.w3.weight', 'layers.10.attention_norm.weight', 'layers.10.ffn_norm.weight', 'layers.11.attention.wq.weight', 'layers.11.attention.wk.weight', 'layers.11.attention.wv.weight', 'layers.11.attention.wo.weight', 'layers.11.feed_forward.w1.weight', 'layers.11.feed_forward.w2.weight', 'layers.11.feed_forward.w3.weight', 'layers.11.attention_norm.weight', 'layers.11.ffn_norm.weight', 'layers.12.attention.wq.weight', 'layers.12.attention.wk.weight', 'layers.12.attention.wv.weight', 'layers.12.attention.wo.weight', 'layers.12.feed_forward.w1.weight', 'layers.12.feed_forward.w2.weight', 'layers.12.feed_forward.w3.weight', 'layers.12.attention_norm.weight', 'layers.12.ffn_norm.weight', 'layers.13.attention.wq.weight', 'layers.13.attention.wk.weight', 'layers.13.attention.wv.weight', 'layers.13.attention.wo.weight', 'layers.13.feed_forward.w1.weight', 'layers.13.feed_forward.w2.weight', 'layers.13.feed_forward.w3.weight', 'layers.13.attention_norm.weight', 'layers.13.ffn_norm.weight', 'layers.14.attention.wq.weight', 'layers.14.attention.wk.weight', 'layers.14.attention.wv.weight', 'layers.14.attention.wo.weight', 'layers.14.feed_forward.w1.weight', 'layers.14.feed_forward.w2.weight', 'layers.14.feed_forward.w3.weight', 'layers.14.attention_norm.weight', 'layers.14.ffn_norm.weight', 'layers.15.attention.wq.weight', 'layers.15.attention.wk.weight', 'layers.15.attention.wv.weight', 'layers.15.attention.wo.weight', 'layers.15.feed_forward.w1.weight', 'layers.15.feed_forward.w2.weight', 'layers.15.feed_forward.w3.weight', 'layers.15.attention_norm.weight', 'layers.15.ffn_norm.weight', 'layers.16.attention.wq.weight', 'layers.16.attention.wk.weight', 'layers.16.attention.wv.weight', 'layers.16.attention.wo.weight', 'layers.16.feed_forward.w1.weight', 'layers.16.feed_forward.w2.weight', 'layers.16.feed_forward.w3.weight', 'layers.16.attention_norm.weight', 'layers.16.ffn_norm.weight', 'layers.17.attention.wq.weight', 'layers.17.attention.wk.weight', 'layers.17.attention.wv.weight', 'layers.17.attention.wo.weight', 'layers.17.feed_forward.w1.weight', 'layers.17.feed_forward.w2.weight', 'layers.17.feed_forward.w3.weight', 'layers.17.attention_norm.weight', 'layers.17.ffn_norm.weight', 'layers.18.attention.wq.weight', 'layers.18.attention.wk.weight', 'layers.18.attention.wv.weight', 'layers.18.attention.wo.weight', 'layers.18.feed_forward.w1.weight', 'layers.18.feed_forward.w2.weight', 'layers.18.feed_forward.w3.weight', 'layers.18.attention_norm.weight', 'layers.18.ffn_norm.weight', 'layers.19.attention.wq.weight', 'layers.19.attention.wk.weight', 'layers.19.attention.wv.weight', 'layers.19.attention.wo.weight', 'layers.19.feed_forward.w1.weight', 'layers.19.feed_forward.w2.weight', 'layers.19.feed_forward.w3.weight', 'layers.19.attention_norm.weight', 'layers.19.ffn_norm.weight', 'layers.20.attention.wq.weight', 'layers.20.attention.wk.weight', 'layers.20.attention.wv.weight', 'layers.20.attention.wo.weight', 'layers.20.feed_forward.w1.weight', 'layers.20.feed_forward.w2.weight', 'layers.20.feed_forward.w3.weight', 'layers.20.attention_norm.weight', 'layers.20.ffn_norm.weight', 'layers.21.attention.wq.weight', 'layers.21.attention.wk.weight', 'layers.21.attention.wv.weight', 'layers.21.attention.wo.weight', 'layers.21.feed_forward.w1.weight', 'layers.21.feed_forward.w2.weight', 'layers.21.feed_forward.w3.weight', 'layers.21.attention_norm.weight', 'layers.21.ffn_norm.weight', 'layers.22.attention.wq.weight', 'layers.22.attention.wk.weight', 'layers.22.attention.wv.weight', 'layers.22.attention.wo.weight', 'layers.22.feed_forward.w1.weight', 'layers.22.feed_forward.w2.weight', 'layers.22.feed_forward.w3.weight', 'layers.22.attention_norm.weight', 'layers.22.ffn_norm.weight', 'layers.23.attention.wq.weight', 'layers.23.attention.wk.weight', 'layers.23.attention.wv.weight', 'layers.23.attention.wo.weight', 'layers.23.feed_forward.w1.weight', 'layers.23.feed_forward.w2.weight', 'layers.23.feed_forward.w3.weight', 'layers.23.attention_norm.weight', 'layers.23.ffn_norm.weight', 'layers.24.attention.wq.weight', 'layers.24.attention.wk.weight', 'layers.24.attention.wv.weight', 'layers.24.attention.wo.weight', 'layers.24.feed_forward.w1.weight', 'layers.24.feed_forward.w2.weight', 'layers.24.feed_forward.w3.weight', 'layers.24.attention_norm.weight', 'layers.24.ffn_norm.weight', 'layers.25.attention.wq.weight', 'layers.25.attention.wk.weight', 'layers.25.attention.wv.weight', 'layers.25.attention.wo.weight', 'layers.25.feed_forward.w1.weight', 'layers.25.feed_forward.w2.weight', 'layers.25.feed_forward.w3.weight', 'layers.25.attention_norm.weight', 'layers.25.ffn_norm.weight', 'layers.26.attention.wq.weight', 'layers.26.attention.wk.weight', 'layers.26.attention.wv.weight', 'layers.26.attention.wo.weight', 'layers.26.feed_forward.w1.weight', 'layers.26.feed_forward.w2.weight', 'layers.26.feed_forward.w3.weight', 'layers.26.attention_norm.weight', 'layers.26.ffn_norm.weight', 'layers.27.attention.wq.weight', 'layers.27.attention.wk.weight', 'layers.27.attention.wv.weight', 'layers.27.attention.wo.weight', 'layers.27.feed_forward.w1.weight', 'layers.27.feed_forward.w2.weight', 'layers.27.feed_forward.w3.weight', 'layers.27.attention_norm.weight', 'layers.27.ffn_norm.weight', 'layers.28.attention.wq.weight', 'layers.28.attention.wk.weight', 'layers.28.attention.wv.weight', 'layers.28.attention.wo.weight', 'layers.28.feed_forward.w1.weight', 'layers.28.feed_forward.w2.weight', 'layers.28.feed_forward.w3.weight', 'layers.28.attention_norm.weight', 'layers.28.ffn_norm.weight', 'layers.29.attention.wq.weight', 'layers.29.attention.wk.weight', 'layers.29.attention.wv.weight', 'layers.29.attention.wo.weight', 'layers.29.feed_forward.w1.weight', 'layers.29.feed_forward.w2.weight', 'layers.29.feed_forward.w3.weight', 'layers.29.attention_norm.weight', 'layers.29.ffn_norm.weight', 'layers.30.attention.wq.weight', 'layers.30.attention.wk.weight', 'layers.30.attention.wv.weight', 'layers.30.attention.wo.weight', 'layers.30.feed_forward.w1.weight', 'layers.30.feed_forward.w2.weight', 'layers.30.feed_forward.w3.weight', 'layers.30.attention_norm.weight', 'layers.30.ffn_norm.weight', 'layers.31.attention.wq.weight', 'layers.31.attention.wk.weight', 'layers.31.attention.wv.weight', 'layers.31.attention.wo.weight', 'layers.31.feed_forward.w1.weight', 'layers.31.feed_forward.w2.weight', 'layers.31.feed_forward.w3.weight', 'layers.31.attention_norm.weight', 'layers.31.ffn_norm.weight', 'layers.32.attention.wq.weight', 'layers.32.attention.wk.weight', 'layers.32.attention.wv.weight', 'layers.32.attention.wo.weight', 'layers.32.feed_forward.w1.weight', 'layers.32.feed_forward.w2.weight', 'layers.32.feed_forward.w3.weight', 'layers.32.attention_norm.weight', 'layers.32.ffn_norm.weight', 'layers.33.attention.wq.weight', 'layers.33.attention.wk.weight', 'layers.33.attention.wv.weight', 'layers.33.attention.wo.weight', 'layers.33.feed_forward.w1.weight', 'layers.33.feed_forward.w2.weight', 'layers.33.feed_forward.w3.weight', 'layers.33.attention_norm.weight', 'layers.33.ffn_norm.weight', 'layers.34.attention.wq.weight', 'layers.34.attention.wk.weight', 'layers.34.attention.wv.weight', 'layers.34.attention.wo.weight', 'layers.34.feed_forward.w1.weight', 'layers.34.feed_forward.w2.weight', 'layers.34.feed_forward.w3.weight', 'layers.34.attention_norm.weight', 'layers.34.ffn_norm.weight', 'layers.35.attention.wq.weight', 'layers.35.attention.wk.weight', 'layers.35.attention.wv.weight', 'layers.35.attention.wo.weight', 'layers.35.feed_forward.w1.weight', 'layers.35.feed_forward.w2.weight', 'layers.35.feed_forward.w3.weight', 'layers.35.attention_norm.weight', 'layers.35.ffn_norm.weight', 'layers.36.attention.wq.weight', 'layers.36.attention.wk.weight', 'layers.36.attention.wv.weight', 'layers.36.attention.wo.weight', 'layers.36.feed_forward.w1.weight', 'layers.36.feed_forward.w2.weight', 'layers.36.feed_forward.w3.weight', 'layers.36.attention_norm.weight', 'layers.36.ffn_norm.weight', 'layers.37.attention.wq.weight', 'layers.37.attention.wk.weight', 'layers.37.attention.wv.weight', 'layers.37.attention.wo.weight', 'layers.37.feed_forward.w1.weight', 'layers.37.feed_forward.w2.weight', 'layers.37.feed_forward.w3.weight', 'layers.37.attention_norm.weight', 'layers.37.ffn_norm.weight', 'layers.38.attention.wq.weight', 'layers.38.attention.wk.weight', 'layers.38.attention.wv.weight', 'layers.38.attention.wo.weight', 'layers.38.feed_forward.w1.weight', 'layers.38.feed_forward.w2.weight', 'layers.38.feed_forward.w3.weight', 'layers.38.attention_norm.weight', 'layers.38.ffn_norm.weight', 'layers.39.attention.wq.weight', 'layers.39.attention.wk.weight', 'layers.39.attention.wv.weight', 'layers.39.attention.wo.weight', 'layers.39.feed_forward.w1.weight', 'layers.39.feed_forward.w2.weight', 'layers.39.feed_forward.w3.weight', 'layers.39.attention_norm.weight', 'layers.39.ffn_norm.weight', 'layers.40.attention.wq.weight', 'layers.40.attention.wk.weight', 'layers.40.attention.wv.weight', 'layers.40.attention.wo.weight', 'layers.40.feed_forward.w1.weight', 'layers.40.feed_forward.w2.weight', 'layers.40.feed_forward.w3.weight', 'layers.40.attention_norm.weight', 'layers.40.ffn_norm.weight', 'layers.41.attention.wq.weight', 'layers.41.attention.wk.weight', 'layers.41.attention.wv.weight', 'layers.41.attention.wo.weight', 'layers.41.feed_forward.w1.weight', 'layers.41.feed_forward.w2.weight', 'layers.41.feed_forward.w3.weight', 'layers.41.attention_norm.weight', 'layers.41.ffn_norm.weight', 'layers.42.attention.wq.weight', 'layers.42.attention.wk.weight', 'layers.42.attention.wv.weight', 'layers.42.attention.wo.weight', 'layers.42.feed_forward.w1.weight', 'layers.42.feed_forward.w2.weight', 'layers.42.feed_forward.w3.weight', 'layers.42.attention_norm.weight', 'layers.42.ffn_norm.weight', 'layers.43.attention.wq.weight', 'layers.43.attention.wk.weight', 'layers.43.attention.wv.weight', 'layers.43.attention.wo.weight', 'layers.43.feed_forward.w1.weight', 'layers.43.feed_forward.w2.weight', 'layers.43.feed_forward.w3.weight', 'layers.43.attention_norm.weight', 'layers.43.ffn_norm.weight', 'layers.44.attention.wq.weight', 'layers.44.attention.wk.weight', 'layers.44.attention.wv.weight', 'layers.44.attention.wo.weight', 'layers.44.feed_forward.w1.weight', 'layers.44.feed_forward.w2.weight', 'layers.44.feed_forward.w3.weight', 'layers.44.attention_norm.weight', 'layers.44.ffn_norm.weight', 'layers.45.attention.wq.weight', 'layers.45.attention.wk.weight', 'layers.45.attention.wv.weight', 'layers.45.attention.wo.weight', 'layers.45.feed_forward.w1.weight', 'layers.45.feed_forward.w2.weight', 'layers.45.feed_forward.w3.weight', 'layers.45.attention_norm.weight', 'layers.45.ffn_norm.weight', 'layers.46.attention.wq.weight', 'layers.46.attention.wk.weight', 'layers.46.attention.wv.weight', 'layers.46.attention.wo.weight', 'layers.46.feed_forward.w1.weight', 'layers.46.feed_forward.w2.weight', 'layers.46.feed_forward.w3.weight', 'layers.46.attention_norm.weight', 'layers.46.ffn_norm.weight', 'layers.47.attention.wq.weight', 'layers.47.attention.wk.weight', 'layers.47.attention.wv.weight', 'layers.47.attention.wo.weight', 'layers.47.feed_forward.w1.weight', 'layers.47.feed_forward.w2.weight', 'layers.47.feed_forward.w3.weight', 'layers.47.attention_norm.weight', 'layers.47.ffn_norm.weight', 'layers.48.attention.wq.weight', 'layers.48.attention.wk.weight', 'layers.48.attention.wv.weight', 'layers.48.attention.wo.weight', 'layers.48.feed_forward.w1.weight', 'layers.48.feed_forward.w2.weight', 'layers.48.feed_forward.w3.weight', 'layers.48.attention_norm.weight', 'layers.48.ffn_norm.weight', 'layers.49.attention.wq.weight', 'layers.49.attention.wk.weight', 'layers.49.attention.wv.weight', 'layers.49.attention.wo.weight', 'layers.49.feed_forward.w1.weight', 'layers.49.feed_forward.w2.weight', 'layers.49.feed_forward.w3.weight', 'layers.49.attention_norm.weight', 'layers.49.ffn_norm.weight', 'layers.50.attention.wq.weight', 'layers.50.attention.wk.weight', 'layers.50.attention.wv.weight', 'layers.50.attention.wo.weight', 'layers.50.feed_forward.w1.weight', 'layers.50.feed_forward.w2.weight', 'layers.50.feed_forward.w3.weight', 'layers.50.attention_norm.weight', 'layers.50.ffn_norm.weight', 'layers.51.attention.wq.weight', 'layers.51.attention.wk.weight', 'layers.51.attention.wv.weight', 'layers.51.attention.wo.weight', 'layers.51.feed_forward.w1.weight', 'layers.51.feed_forward.w2.weight', 'layers.51.feed_forward.w3.weight', 'layers.51.attention_norm.weight', 'layers.51.ffn_norm.weight', 'layers.52.attention.wq.weight', 'layers.52.attention.wk.weight', 'layers.52.attention.wv.weight', 'layers.52.attention.wo.weight', 'layers.52.feed_forward.w1.weight', 'layers.52.feed_forward.w2.weight', 'layers.52.feed_forward.w3.weight', 'layers.52.attention_norm.weight', 'layers.52.ffn_norm.weight', 'layers.53.attention.wq.weight', 'layers.53.attention.wk.weight', 'layers.53.attention.wv.weight', 'layers.53.attention.wo.weight', 'layers.53.feed_forward.w1.weight', 'layers.53.feed_forward.w2.weight', 'layers.53.feed_forward.w3.weight', 'layers.53.attention_norm.weight', 'layers.53.ffn_norm.weight', 'layers.54.attention.wq.weight', 'layers.54.attention.wk.weight', 'layers.54.attention.wv.weight', 'layers.54.attention.wo.weight', 'layers.54.feed_forward.w1.weight', 'layers.54.feed_forward.w2.weight', 'layers.54.feed_forward.w3.weight', 'layers.54.attention_norm.weight', 'layers.54.ffn_norm.weight', 'layers.55.attention.wq.weight', 'layers.55.attention.wk.weight', 'layers.55.attention.wv.weight', 'layers.55.attention.wo.weight', 'layers.55.feed_forward.w1.weight', 'layers.55.feed_forward.w2.weight', 'layers.55.feed_forward.w3.weight', 'layers.55.attention_norm.weight', 'layers.55.ffn_norm.weight', 'layers.56.attention.wq.weight', 'layers.56.attention.wk.weight', 'layers.56.attention.wv.weight', 'layers.56.attention.wo.weight', 'layers.56.feed_forward.w1.weight', 'layers.56.feed_forward.w2.weight', 'layers.56.feed_forward.w3.weight', 'layers.56.attention_norm.weight', 'layers.56.ffn_norm.weight', 'layers.57.attention.wq.weight', 'layers.57.attention.wk.weight', 'layers.57.attention.wv.weight', 'layers.57.attention.wo.weight', 'layers.57.feed_forward.w1.weight', 'layers.57.feed_forward.w2.weight', 'layers.57.feed_forward.w3.weight', 'layers.57.attention_norm.weight', 'layers.57.ffn_norm.weight', 'layers.58.attention.wq.weight', 'layers.58.attention.wk.weight', 'layers.58.attention.wv.weight', 'layers.58.attention.wo.weight', 'layers.58.feed_forward.w1.weight', 'layers.58.feed_forward.w2.weight', 'layers.58.feed_forward.w3.weight', 'layers.58.attention_norm.weight', 'layers.58.ffn_norm.weight', 'layers.59.attention.wq.weight', 'layers.59.attention.wk.weight', 'layers.59.attention.wv.weight', 'layers.59.attention.wo.weight', 'layers.59.feed_forward.w1.weight', 'layers.59.feed_forward.w2.weight', 'layers.59.feed_forward.w3.weight', 'layers.59.attention_norm.weight', 'layers.59.ffn_norm.weight', 'layers.60.attention.wq.weight', 'layers.60.attention.wk.weight', 'layers.60.attention.wv.weight', 'layers.60.attention.wo.weight', 'layers.60.feed_forward.w1.weight', 'layers.60.feed_forward.w2.weight', 'layers.60.feed_forward.w3.weight', 'layers.60.attention_norm.weight', 'layers.60.ffn_norm.weight', 'layers.61.attention.wq.weight', 'layers.61.attention.wk.weight', 'layers.61.attention.wv.weight', 'layers.61.attention.wo.weight', 'layers.61.feed_forward.w1.weight', 'layers.61.feed_forward.w2.weight', 'layers.61.feed_forward.w3.weight', 'layers.61.attention_norm.weight', 'layers.61.ffn_norm.weight', 'layers.62.attention.wq.weight', 'layers.62.attention.wk.weight', 'layers.62.attention.wv.weight', 'layers.62.attention.wo.weight', 'layers.62.feed_forward.w1.weight', 'layers.62.feed_forward.w2.weight', 'layers.62.feed_forward.w3.weight', 'layers.62.attention_norm.weight', 'layers.62.ffn_norm.weight', 'layers.63.attention.wq.weight', 'layers.63.attention.wk.weight', 'layers.63.attention.wv.weight', 'layers.63.attention.wo.weight', 'layers.63.feed_forward.w1.weight', 'layers.63.feed_forward.w2.weight', 'layers.63.feed_forward.w3.weight', 'layers.63.attention_norm.weight', 'layers.63.ffn_norm.weight', 'layers.64.attention.wq.weight', 'layers.64.attention.wk.weight', 'layers.64.attention.wv.weight', 'layers.64.attention.wo.weight', 'layers.64.feed_forward.w1.weight', 'layers.64.feed_forward.w2.weight', 'layers.64.feed_forward.w3.weight', 'layers.64.attention_norm.weight', 'layers.64.ffn_norm.weight', 'layers.65.attention.wq.weight', 'layers.65.attention.wk.weight', 'layers.65.attention.wv.weight', 'layers.65.attention.wo.weight', 'layers.65.feed_forward.w1.weight', 'layers.65.feed_forward.w2.weight', 'layers.65.feed_forward.w3.weight', 'layers.65.attention_norm.weight', 'layers.65.ffn_norm.weight', 'layers.66.attention.wq.weight', 'layers.66.attention.wk.weight', 'layers.66.attention.wv.weight', 'layers.66.attention.wo.weight', 'layers.66.feed_forward.w1.weight', 'layers.66.feed_forward.w2.weight', 'layers.66.feed_forward.w3.weight', 'layers.66.attention_norm.weight', 'layers.66.ffn_norm.weight', 'layers.67.attention.wq.weight', 'layers.67.attention.wk.weight', 'layers.67.attention.wv.weight', 'layers.67.attention.wo.weight', 'layers.67.feed_forward.w1.weight', 'layers.67.feed_forward.w2.weight', 'layers.67.feed_forward.w3.weight', 'layers.67.attention_norm.weight', 'layers.67.ffn_norm.weight', 'layers.68.attention.wq.weight', 'layers.68.attention.wk.weight', 'layers.68.attention.wv.weight', 'layers.68.attention.wo.weight', 'layers.68.feed_forward.w1.weight', 'layers.68.feed_forward.w2.weight', 'layers.68.feed_forward.w3.weight', 'layers.68.attention_norm.weight', 'layers.68.ffn_norm.weight', 'layers.69.attention.wq.weight', 'layers.69.attention.wk.weight', 'layers.69.attention.wv.weight', 'layers.69.attention.wo.weight', 'layers.69.feed_forward.w1.weight', 'layers.69.feed_forward.w2.weight', 'layers.69.feed_forward.w3.weight', 'layers.69.attention_norm.weight', 'layers.69.ffn_norm.weight', 'layers.70.attention.wq.weight', 'layers.70.attention.wk.weight', 'layers.70.attention.wv.weight', 'layers.70.attention.wo.weight', 'layers.70.feed_forward.w1.weight', 'layers.70.feed_forward.w2.weight', 'layers.70.feed_forward.w3.weight', 'layers.70.attention_norm.weight', 'layers.70.ffn_norm.weight', 'layers.71.attention.wq.weight', 'layers.71.attention.wk.weight', 'layers.71.attention.wv.weight', 'layers.71.attention.wo.weight', 'layers.71.feed_forward.w1.weight', 'layers.71.feed_forward.w2.weight', 'layers.71.feed_forward.w3.weight', 'layers.71.attention_norm.weight', 'layers.71.ffn_norm.weight', 'layers.72.attention.wq.weight', 'layers.72.attention.wk.weight', 'layers.72.attention.wv.weight', 'layers.72.attention.wo.weight', 'layers.72.feed_forward.w1.weight', 'layers.72.feed_forward.w2.weight', 'layers.72.feed_forward.w3.weight', 'layers.72.attention_norm.weight', 'layers.72.ffn_norm.weight', 'layers.73.attention.wq.weight', 'layers.73.attention.wk.weight', 'layers.73.attention.wv.weight', 'layers.73.attention.wo.weight', 'layers.73.feed_forward.w1.weight', 'layers.73.feed_forward.w2.weight', 'layers.73.feed_forward.w3.weight', 'layers.73.attention_norm.weight', 'layers.73.ffn_norm.weight', 'layers.74.attention.wq.weight', 'layers.74.attention.wk.weight', 'layers.74.attention.wv.weight', 'layers.74.attention.wo.weight', 'layers.74.feed_forward.w1.weight', 'layers.74.feed_forward.w2.weight', 'layers.74.feed_forward.w3.weight', 'layers.74.attention_norm.weight', 'layers.74.ffn_norm.weight', 'layers.75.attention.wq.weight', 'layers.75.attention.wk.weight', 'layers.75.attention.wv.weight', 'layers.75.attention.wo.weight', 'layers.75.feed_forward.w1.weight', 'layers.75.feed_forward.w2.weight', 'layers.75.feed_forward.w3.weight', 'layers.75.attention_norm.weight', 'layers.75.ffn_norm.weight', 'layers.76.attention.wq.weight', 'layers.76.attention.wk.weight', 'layers.76.attention.wv.weight', 'layers.76.attention.wo.weight', 'layers.76.feed_forward.w1.weight', 'layers.76.feed_forward.w2.weight', 'layers.76.feed_forward.w3.weight', 'layers.76.attention_norm.weight', 'layers.76.ffn_norm.weight', 'layers.77.attention.wq.weight', 'layers.77.attention.wk.weight', 'layers.77.attention.wv.weight', 'layers.77.attention.wo.weight', 'layers.77.feed_forward.w1.weight', 'layers.77.feed_forward.w2.weight', 'layers.77.feed_forward.w3.weight', 'layers.77.attention_norm.weight', 'layers.77.ffn_norm.weight', 'layers.78.attention.wq.weight', 'layers.78.attention.wk.weight', 'layers.78.attention.wv.weight', 'layers.78.attention.wo.weight', 'layers.78.feed_forward.w1.weight', 'layers.78.feed_forward.w2.weight', 'layers.78.feed_forward.w3.weight', 'layers.78.attention_norm.weight', 'layers.78.ffn_norm.weight', 'layers.79.attention.wq.weight', 'layers.79.attention.wk.weight', 'layers.79.attention.wv.weight', 'layers.79.attention.wo.weight', 'layers.79.feed_forward.w1.weight', 'layers.79.feed_forward.w2.weight', 'layers.79.feed_forward.w3.weight', 'layers.79.attention_norm.weight', 'layers.79.ffn_norm.weight', 'rope.freqs'])"
      ]
     },
     "execution_count": 12,
     "metadata": {},
     "output_type": "execute_result"
    }
   ],
   "source": [
    "ckpt_lst[0].keys()"
   ]
  },
  {
   "cell_type": "code",
   "execution_count": 14,
   "id": "98a3fcb0-cc23-47dc-84dc-00b689157031",
   "metadata": {},
   "outputs": [
    {
     "name": "stdout",
     "output_type": "stream",
     "text": [
      "0 torch.Size([8192])\n",
      "1 torch.Size([8192])\n",
      "2 torch.Size([8192])\n",
      "3 torch.Size([8192])\n",
      "4 torch.Size([8192])\n",
      "5 torch.Size([8192])\n",
      "6 torch.Size([8192])\n",
      "7 torch.Size([8192])\n"
     ]
    }
   ],
   "source": [
    "for i, ckpt in enumerate(ckpt_lst):\n",
    "    print(i, ckpt['norm.weight'].shape)"
   ]
  },
  {
   "cell_type": "code",
   "execution_count": 5,
   "id": "d1cfc5b4-cf20-40b5-9d47-b94229a6fc5d",
   "metadata": {},
   "outputs": [
    {
     "name": "stdout",
     "output_type": "stream",
     "text": [
      "torch.Size([128, 8192])\n",
      "torch.Size([128, 8192])\n",
      "torch.Size([128, 8192])\n",
      "torch.Size([128, 8192])\n",
      "torch.Size([128, 8192])\n",
      "torch.Size([128, 8192])\n",
      "torch.Size([128, 8192])\n",
      "torch.Size([128, 8192])\n"
     ]
    }
   ],
   "source": [
    "for ckpt_ in ckpt_lst:\n",
    "    print(ckpt_['layers.9.attention.wk.weight'].shape)"
   ]
  },
  {
   "cell_type": "code",
   "execution_count": 22,
   "id": "7cf12b7a-61b4-4490-a049-0d9d660c9ee8",
   "metadata": {},
   "outputs": [
    {
     "data": {
      "text/plain": [
       "torch.bfloat16"
      ]
     },
     "execution_count": 22,
     "metadata": {},
     "output_type": "execute_result"
    }
   ],
   "source": [
    "ckpt_lst[0][\"layers.1.attention_norm.weight\"].dtype"
   ]
  },
  {
   "cell_type": "code",
   "execution_count": 4,
   "id": "0bab792e-0314-4c42-b0b1-c6012cfa96f6",
   "metadata": {},
   "outputs": [],
   "source": [
    "from llama import Llama, Tokenizer"
   ]
  },
  {
   "cell_type": "code",
   "execution_count": 5,
   "id": "f33a9f10-8251-4328-801b-984332ce4166",
   "metadata": {},
   "outputs": [],
   "source": [
    "tokenizer_path = \"tokenizer.model\"\n",
    "tokenizer = Tokenizer(tokenizer_path)"
   ]
  },
  {
   "cell_type": "code",
   "execution_count": 8,
   "id": "5929c86a-dfcb-4613-a0bb-0725020ec42f",
   "metadata": {},
   "outputs": [
    {
     "data": {
      "text/plain": [
       "[408, 2176, 294, 2176, 7925]"
      ]
     },
     "execution_count": 8,
     "metadata": {},
     "output_type": "execute_result"
    }
   ],
   "source": [
    "tokenizer.encode(\"asdfasdfads\", False, False)"
   ]
  },
  {
   "cell_type": "code",
   "execution_count": 37,
   "id": "d8bb8b8f-d812-478d-9054-e6f19e9e7226",
   "metadata": {},
   "outputs": [
    {
     "name": "stdout",
     "output_type": "stream",
     "text": [
      "8\n"
     ]
    }
   ],
   "source": [
    "keys_lst = []\n",
    "for i, ckpt in enumerate(ckpt_lst):\n",
    "    keys_lst.append(list(ckpt.keys()))\n",
    "print(len(keys_lst))\n",
    "\n",
    "for i, keys in enumerate(keys_lst):\n",
    "    for j, key_ in enumerate(keys):\n",
    "        for k, keys_ in enumerate(keys_lst):\n",
    "            if key_ not in keys_:\n",
    "                print(i, j, k, key_)"
   ]
  },
  {
   "cell_type": "code",
   "execution_count": 38,
   "id": "8e0e04af-adfa-4bb4-ab2f-9601b75c3feb",
   "metadata": {},
   "outputs": [],
   "source": [
    "def check_colpar(str):\n",
    "    column_parallel_name_lst = [\"output\", \"wq\", \"wk\", \"wv\", \"w1\", \"w3\"]\n",
    "    for colpar_name in column_parallel_name_lst:\n",
    "        if colpar_name in str:\n",
    "            return True\n",
    "    return False\n",
    "\n",
    "def check_rowpar(str):\n",
    "    row_parallel_name_lst = [\"embeddings\", \"wo\", \"w2\"]\n",
    "    for rowpar_name in row_parallel_name_lst:\n",
    "        if rowpar_name in str:\n",
    "            return True\n",
    "    return False\n",
    "\n",
    "def check_nopar(str):\n",
    "    no_parallel_name_lst = [\"rope\", \"norm\"]\n",
    "    for nopar_name in no_parallel_name_lst:\n",
    "        if nopar_name in str:\n",
    "            return True\n",
    "    return False"
   ]
  },
  {
   "cell_type": "code",
   "execution_count": 48,
   "id": "831212b3-7bd1-4858-8e83-a33d28889b69",
   "metadata": {},
   "outputs": [
    {
     "name": "stderr",
     "output_type": "stream",
     "text": [
      "100%|██████████| 724/724 [01:28<00:00,  8.19it/s]\n"
     ]
    },
    {
     "data": {
      "text/plain": [
       "724"
      ]
     },
     "execution_count": 48,
     "metadata": {},
     "output_type": "execute_result"
    }
   ],
   "source": [
    "model_weights_dict = {}\n",
    "for i, model_weights_name in enumerate(tqdm.tqdm(keys_lst[0])):\n",
    "    \n",
    "    a = None\n",
    "    for j in range(7):\n",
    "        \n",
    "        if a is None:\n",
    "            if check_colpar(model_weights_name):\n",
    "                a = torch.concat((ckpt_lst[j][model_weights_name],\n",
    "                                  ckpt_lst[j+1][model_weights_name]), dim=0)\n",
    "            elif check_rowpar(model_weights_name):\n",
    "                a = torch.concat((ckpt_lst[j][model_weights_name],\n",
    "                                  ckpt_lst[j+1][model_weights_name]), dim=1)\n",
    "            elif check_nopar(model_weights_name):\n",
    "                a = ckpt_lst[j][model_weights_name]\n",
    "                break\n",
    "            else:\n",
    "                assert True, \"not matching\"\n",
    "        else:\n",
    "            if check_colpar(model_weights_name):\n",
    "                a = torch.concat((a,\n",
    "                                  ckpt_lst[j+1][model_weights_name]), dim=0)\n",
    "            elif check_rowpar(model_weights_name):\n",
    "                a = torch.concat((a,\n",
    "                                  ckpt_lst[j+1][model_weights_name]), dim=1)\n",
    "            else:\n",
    "                assert True, \"not matching\"\n",
    "    \n",
    "    model_weights_dict[model_weights_name] = a\n",
    "\n",
    "len(model_weights_dict)"
   ]
  },
  {
   "cell_type": "code",
   "execution_count": 50,
   "id": "24ba80ef-18d2-4f70-964f-99653cf459ce",
   "metadata": {},
   "outputs": [],
   "source": [
    "# for model_name in keys_lst[0]:\n",
    "#     print(model_name, model_weights_dict[model_name].shape)"
   ]
  },
  {
   "cell_type": "code",
   "execution_count": 51,
   "id": "15dea810-b46c-4a82-8d18-3c4075941373",
   "metadata": {},
   "outputs": [],
   "source": [
    "torch.save(model_weights_dict,\"./whole_llama2_model.pt\")"
   ]
  },
  {
   "cell_type": "code",
   "execution_count": null,
   "id": "1c798208-0d54-435e-b687-76758351d997",
   "metadata": {},
   "outputs": [],
   "source": []
  }
 ],
 "metadata": {
  "kernelspec": {
   "display_name": "cechallenge",
   "language": "python",
   "name": "cechallenge"
  },
  "language_info": {
   "codemirror_mode": {
    "name": "ipython",
    "version": 3
   },
   "file_extension": ".py",
   "mimetype": "text/x-python",
   "name": "python",
   "nbconvert_exporter": "python",
   "pygments_lexer": "ipython3",
   "version": "3.10.12"
  }
 },
 "nbformat": 4,
 "nbformat_minor": 5
}
